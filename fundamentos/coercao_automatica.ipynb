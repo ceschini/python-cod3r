{
 "cells": [
  {
   "cell_type": "markdown",
   "id": "hollywood-superintendent",
   "metadata": {},
   "source": [
    "# Coerção Automática"
   ]
  },
  {
   "cell_type": "code",
   "execution_count": 10,
   "id": "assured-porcelain",
   "metadata": {},
   "outputs": [
    {
     "name": "stdout",
     "output_type": "stream",
     "text": [
      "5.0\n",
      "<class 'float'>\n",
      "3\n",
      "<class 'int'>\n",
      "<class 'float'>\n"
     ]
    }
   ],
   "source": [
    "# Quando nao eh ambiguo, nao da erro\n",
    "\n",
    "# resultado de divisao sempre float\n",
    "print(10 / 2)\n",
    "print(type(10 / 2))\n",
    "\n",
    "print(2 + True) # True = 1\n",
    "print(type(1 + 1))\n",
    "print(type(1 + 2.4))"
   ]
  }
 ],
 "metadata": {
  "kernelspec": {
   "display_name": "Python 3",
   "language": "python",
   "name": "python3"
  },
  "language_info": {
   "codemirror_mode": {
    "name": "ipython",
    "version": 3
   },
   "file_extension": ".py",
   "mimetype": "text/x-python",
   "name": "python",
   "nbconvert_exporter": "python",
   "pygments_lexer": "ipython3",
   "version": "3.8.5"
  }
 },
 "nbformat": 4,
 "nbformat_minor": 5
}
