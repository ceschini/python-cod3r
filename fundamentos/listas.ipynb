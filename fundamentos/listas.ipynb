{
 "cells": [
  {
   "cell_type": "markdown",
   "id": "positive-italy",
   "metadata": {},
   "source": [
    "# Lista"
   ]
  },
  {
   "cell_type": "code",
   "execution_count": 16,
   "id": "significant-physiology",
   "metadata": {},
   "outputs": [
    {
     "data": {
      "text/plain": [
       "['Bia', 'Ana', 1]"
      ]
     },
     "execution_count": 16,
     "metadata": {},
     "output_type": "execute_result"
    }
   ],
   "source": [
    "lista = []\n",
    "type(lista) # list\n",
    "dir(lista)\n",
    "#help(list)\n",
    "len(lista) # 0\n",
    "lista.append(1) # add fim da lista elemento com valor 1\n",
    "lista.append(5)\n",
    "lista # [1, 5]\n",
    "len(lista) # 2\n",
    "lista.append([2, 3, 4])\n",
    "lista # [1, 5, [2, 3, 4]]\n",
    "\n",
    "# listas sao heterogeneas, mas n eh boa pratica\n",
    "nova_lista = [1, 5, 'Ana', 'Bia']\n",
    "nova_lista\n",
    "nova_lista.remove(5) # remove elemento de valor 5\n",
    "nova_lista\n",
    "nova_lista.reverse() # reverte a lista\n",
    "nova_lista # alterou lista original, ela eh mutavel"
   ]
  },
  {
   "cell_type": "code",
   "execution_count": 30,
   "id": "clean-throw",
   "metadata": {},
   "outputs": [
    {
     "data": {
      "text/plain": [
       "1"
      ]
     },
     "execution_count": 30,
     "metadata": {},
     "output_type": "execute_result"
    }
   ],
   "source": [
    "lista = [1, 5, 'Rebeca', 'Guilherme', 3.1415]\n",
    "\n",
    "# listas sao indexadas\n",
    "# qual o indice do elemento com valor 'Guilherme'\n",
    "lista.index('Guilherme') # 3\n",
    "# lista.index(42) # 42 not in list\n",
    "lista[2] # Rebeca\n",
    "1 in lista # True\n",
    "'Rebeca' in lista # True\n",
    "'Pedro' not in lista # True\n",
    "lista[0] # 1 -> primeiro elemento\n",
    "lista[4] # 3.1415\n",
    "# lista[5] # list index out of range\n",
    "lista[-1] # 3.1415 -> ultimo elemento\n",
    "lista[-5] # 1"
   ]
  },
  {
   "cell_type": "code",
   "execution_count": 40,
   "id": "adopted-nowhere",
   "metadata": {},
   "outputs": [
    {
     "data": {
      "text/plain": [
       "['Ana']"
      ]
     },
     "execution_count": 40,
     "metadata": {},
     "output_type": "execute_result"
    }
   ],
   "source": [
    "lista = ['Ana', 'Lia', 'Rui', 'Paulo', 'Dani']\n",
    "lista[1:3] # todos elementos do indice 1 ate o 3 - 1\n",
    "lista[1:-1] # todos do indice 1 ate o ultimo menos ele\n",
    "lista[1:] # do indice 1 ate o fim\n",
    "lista[:-1] # do primeiro ate o ultimo menos ele\n",
    "lista[:] # toda lista\n",
    "lista[::2] # toda lista de 2 em 2\n",
    "lista[::-1] # toda lista do fim p inicio\n",
    "del lista[2] # deleta elemento de indice 2 Rui\n",
    "lista\n",
    "del lista[1:] # deleta todos do indice 1 ate o final\n",
    "lista"
   ]
  }
 ],
 "metadata": {
  "kernelspec": {
   "display_name": "Python 3",
   "language": "python",
   "name": "python3"
  },
  "language_info": {
   "codemirror_mode": {
    "name": "ipython",
    "version": 3
   },
   "file_extension": ".py",
   "mimetype": "text/x-python",
   "name": "python",
   "nbconvert_exporter": "python",
   "pygments_lexer": "ipython3",
   "version": "3.8.5"
  }
 },
 "nbformat": 4,
 "nbformat_minor": 5
}
