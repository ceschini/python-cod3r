{
 "cells": [
  {
   "cell_type": "markdown",
   "id": "radio-venue",
   "metadata": {},
   "source": [
    "# Conversão de Tipos"
   ]
  },
  {
   "cell_type": "code",
   "execution_count": 21,
   "id": "vertical-generator",
   "metadata": {},
   "outputs": [
    {
     "name": "stdout",
     "output_type": "stream",
     "text": [
      "<class 'int'>\n",
      "<class 'str'>\n",
      "5\n",
      "23\n",
      "4.3\n"
     ]
    }
   ],
   "source": [
    "2 + 3 # soma\n",
    "'2' + '3' # concatenacao\n",
    "#2 + '3' # erro, ta ambiguo\n",
    "#print(2 + '3')\n",
    "\n",
    "a = 2\n",
    "b = '3'\n",
    "\n",
    "print(type(a))\n",
    "print(type(b))\n",
    "\n",
    "# int() converte pra inteiro\n",
    "print(a + int(b))\n",
    "\n",
    "# str() converte pra string\n",
    "print(str(a) + b)\n",
    "\n",
    "# float() converte pra float\n",
    "print(2 + float('2.3'))"
   ]
  }
 ],
 "metadata": {
  "kernelspec": {
   "display_name": "Python 3",
   "language": "python",
   "name": "python3"
  },
  "language_info": {
   "codemirror_mode": {
    "name": "ipython",
    "version": 3
   },
   "file_extension": ".py",
   "mimetype": "text/x-python",
   "name": "python",
   "nbconvert_exporter": "python",
   "pygments_lexer": "ipython3",
   "version": "3.8.5"
  }
 },
 "nbformat": 4,
 "nbformat_minor": 5
}
