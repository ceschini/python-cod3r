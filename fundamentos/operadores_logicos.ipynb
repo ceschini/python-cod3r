{
 "cells": [
  {
   "cell_type": "markdown",
   "id": "burning-adventure",
   "metadata": {},
   "source": [
    "# Operadores Lógicos"
   ]
  },
  {
   "cell_type": "code",
   "execution_count": 26,
   "id": "amino-matthew",
   "metadata": {},
   "outputs": [
    {
     "name": "stdout",
     "output_type": "stream",
     "text": [
      "True\n",
      "True\n",
      "True\n",
      "3\n",
      "2\n",
      "1\n",
      "False\n"
     ]
    }
   ],
   "source": [
    "True or False # operador or\n",
    "7 != 3 and 2 > 3 # operador and\n",
    "True != False # operador xor\n",
    "\n",
    "not 0# operador not\n",
    "not not 0\n",
    "\n",
    "# cuidado, operadores bit a bit\n",
    "print(True & True) # or\n",
    "print(False | True) # and\n",
    "print( True ^ False) # xor\n",
    "\n",
    "# 3 = 11\n",
    "# 2 = 10\n",
    "# _ = 11\n",
    "print(3 | 2)\n",
    "\n",
    "# 3 = 11\n",
    "# 2 = 10\n",
    "# _ = 10\n",
    "print(3 & 2)\n",
    "\n",
    "# 3 = 11\n",
    "# 2 = 10\n",
    "# _ = 01\n",
    "print(3 ^ 2)\n",
    "\n",
    "# um pouco de realidade\n",
    "saldo = 1000\n",
    "salario = 4000\n",
    "despesas = 3967\n",
    "\n",
    "saldo_positivo = saldo > 0\n",
    "despesas_controladas = salario - despesas >= 0.2 * salario\n",
    "meta = saldo_positivo and despesas_controladas\n",
    "print(meta)"
   ]
  }
 ],
 "metadata": {
  "kernelspec": {
   "display_name": "Python 3",
   "language": "python",
   "name": "python3"
  },
  "language_info": {
   "codemirror_mode": {
    "name": "ipython",
    "version": 3
   },
   "file_extension": ".py",
   "mimetype": "text/x-python",
   "name": "python",
   "nbconvert_exporter": "python",
   "pygments_lexer": "ipython3",
   "version": "3.8.5"
  }
 },
 "nbformat": 4,
 "nbformat_minor": 5
}
