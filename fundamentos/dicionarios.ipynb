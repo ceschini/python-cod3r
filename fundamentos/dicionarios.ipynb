{
 "cells": [
  {
   "cell_type": "markdown",
   "id": "subject-architecture",
   "metadata": {},
   "source": [
    "# Dicionários"
   ]
  },
  {
   "cell_type": "code",
   "execution_count": 24,
   "id": "absolute-census",
   "metadata": {},
   "outputs": [
    {
     "name": "stdout",
     "output_type": "stream",
     "text": [
      "{'nome': 'Prof(a), Ana', 'idade': 38, 'cursos': ['Inglês', 'Português']}\n"
     ]
    },
    {
     "data": {
      "text/plain": [
       "[]"
      ]
     },
     "execution_count": 24,
     "metadata": {},
     "output_type": "execute_result"
    }
   ],
   "source": [
    "# par chave valor (items)\n",
    "# indexada normalmente por strings*\n",
    "pessoa = {'nome': 'Prof(a), Ana', 'idade': 38, 'cursos': ['Inglês', 'Português']}\n",
    "print(pessoa)\n",
    "\n",
    "type(pessoa) # dict\n",
    "dir(dict)\n",
    "len(pessoa)\n",
    "pessoa['nome']\n",
    "pessoa['idade']\n",
    "pessoa['cursos'][1]\n",
    "pessoa.keys()\n",
    "pessoa.values()\n",
    "pessoa.items() # chave, valor\n",
    "pessoa.get('idade')\n",
    "pessoa.get('tags') # nao retorna nada\n",
    "\n",
    "pessoa.get('tags', []) # retorna valor de tags ou []"
   ]
  },
  {
   "cell_type": "code",
   "execution_count": 37,
   "id": "joint-scratch",
   "metadata": {},
   "outputs": [
    {
     "name": "stdout",
     "output_type": "stream",
     "text": [
      "{'nome': 'Prof. Alberto', 'idade': 46, 'cursos': ['React', 'Python']}\n",
      "44\n",
      "{'nome': 'Prof. Alberto', 'cursos': ['React', 'Python', 'Angular']}\n",
      "{'nome': 'Prof. Alberto', 'cursos': ['React', 'Python', 'Angular'], 'idade': 40, 'Sexo': 'M'}\n"
     ]
    },
    {
     "data": {
      "text/plain": [
       "{}"
      ]
     },
     "execution_count": 37,
     "metadata": {},
     "output_type": "execute_result"
    }
   ],
   "source": [
    "pessoa = {'nome': 'Prof. Alberto', 'idade': 46, 'cursos': ['React', 'Python']}\n",
    "print(pessoa)\n",
    "pessoa['idade'] = 44\n",
    "pessoa['cursos'].append('Angular')\n",
    "pessoa\n",
    "print(pessoa.pop('idade')) # le o valor e dps tira\n",
    "print(pessoa)\n",
    "pessoa.update({'idade': 40, 'Sexo': 'M'})\n",
    "print(pessoa)\n",
    "del pessoa['cursos']\n",
    "pessoa\n",
    "pessoa.clear() # esvazia o dicionario\n",
    "pessoa"
   ]
  }
 ],
 "metadata": {
  "kernelspec": {
   "display_name": "Python 3",
   "language": "python",
   "name": "python3"
  },
  "language_info": {
   "codemirror_mode": {
    "name": "ipython",
    "version": 3
   },
   "file_extension": ".py",
   "mimetype": "text/x-python",
   "name": "python",
   "nbconvert_exporter": "python",
   "pygments_lexer": "ipython3",
   "version": "3.8.5"
  }
 },
 "nbformat": 4,
 "nbformat_minor": 5
}
