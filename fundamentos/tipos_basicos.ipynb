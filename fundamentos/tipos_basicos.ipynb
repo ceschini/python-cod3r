{
 "cells": [
  {
   "cell_type": "markdown",
   "id": "forty-virgin",
   "metadata": {},
   "source": [
    "# Tipos Básicos"
   ]
  },
  {
   "cell_type": "code",
   "execution_count": 17,
   "id": "annual-premiere",
   "metadata": {},
   "outputs": [
    {
     "name": "stdout",
     "output_type": "stream",
     "text": [
      "True\n",
      "False\n",
      "2.2\n",
      "aqui eh portuga\n",
      "'duplas' aspas\n",
      "você é muito muito muito legal!\n",
      "[1, 2, 3]\n",
      "{'nome': 'Pedro', 'idade': 22}\n",
      "None\n"
     ]
    }
   ],
   "source": [
    "print(True)\n",
    "print(False)\n",
    "print(1.2 + 1) # float + int\n",
    "print('aqui eh portuga') # str\n",
    "print(\"'duplas' aspas\")\n",
    "print('você é ' + 3 * 'muito ' + 'legal!') # de boa\n",
    "# print(3 + '3') # erro, ambiguidade\n",
    "print([1, 2, 3]) # list\n",
    "print({'nome': 'Pedro', 'idade': 22}) # dict\n",
    "print(None) # NoneType (null, undefined)"
   ]
  }
 ],
 "metadata": {
  "kernelspec": {
   "display_name": "Python 3",
   "language": "python",
   "name": "python3"
  },
  "language_info": {
   "codemirror_mode": {
    "name": "ipython",
    "version": 3
   },
   "file_extension": ".py",
   "mimetype": "text/x-python",
   "name": "python",
   "nbconvert_exporter": "python",
   "pygments_lexer": "ipython3",
   "version": "3.8.5"
  }
 },
 "nbformat": 4,
 "nbformat_minor": 5
}
