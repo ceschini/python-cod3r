{
 "cells": [
  {
   "cell_type": "markdown",
   "id": "heated-friendship",
   "metadata": {},
   "source": [
    "# Tipo Strings"
   ]
  },
  {
   "cell_type": "code",
   "execution_count": 19,
   "id": "completed-installation",
   "metadata": {},
   "outputs": [
    {
     "name": "stdout",
     "output_type": "stream",
     "text": [
      "Saulo Pedro\n",
      "S\n",
      "True\n",
      "texto entre apostrofos pode ter \"aspas\"\n",
      "Texto com multiplas\n",
      "    ... linhas\n",
      "multiplas \n",
      " \tlinhas\n"
     ]
    }
   ],
   "source": [
    "dir(str)\n",
    "nome = 'Saulo Pedro'\n",
    "print(nome)\n",
    "# string tem caracteres indexados\n",
    "print(nome[0])\n",
    "# nome[0] = 'P' # erro, *string eh imutavel*\n",
    "print(\"marca d'agua\" == 'marca d\\'agua')\n",
    "print('texto entre apostrofos pode ter \"aspas\"')\n",
    "\n",
    "doc = \"\"\"Texto com multiplas\n",
    "    ... linhas\"\"\"\n",
    "doc\n",
    "print(doc)\n",
    "print('multiplas \\n \\tlinhas')"
   ]
  },
  {
   "cell_type": "code",
   "execution_count": 36,
   "id": "secret-remove",
   "metadata": {},
   "outputs": [
    {
     "name": "stdout",
     "output_type": "stream",
     "text": [
      "u\n",
      "u\n",
      "Paula\n",
      "Paula\n",
      "Ana\n",
      "a P\n",
      "1234567890\n",
      "1234567890\n",
      "13579\n",
      "24680\n",
      "0987654321\n",
      "08642\n",
      "aluaP anA\n"
     ]
    }
   ],
   "source": [
    "nome = 'Ana Paula'\n",
    "nome[0]\n",
    "print(nome[6]) # da esquerda p direita\n",
    "print(nome[-3]) # da direita p esquerda\n",
    "# range\n",
    "print(nome[4:]) # 4 ate fim\n",
    "print(nome[-5:]) #\n",
    "print(nome[:3]) # do inicio ate o 3 - 1\n",
    "print(nome[2:5]) # do 2 ate o 5 - 1\n",
    "\n",
    "numeros = '1234567890'\n",
    "print(numeros)\n",
    "print(numeros[::])\n",
    "print(numeros[::2]) # step = 2\n",
    "print(numeros[1::2]) # a partir do index 1\n",
    "print(numeros[::-1]) # a partir do fim, step 1\n",
    "print(numeros[::-2]) # a partir do fim, step 2\n",
    "print(nome[::-1])"
   ]
  },
  {
   "cell_type": "code",
   "execution_count": 49,
   "id": "attempted-economy",
   "metadata": {},
   "outputs": [
    {
     "data": {
      "text/plain": [
       "['Python é uma linguag', 'm ', 'xc', 'l', 'nt', '']"
      ]
     },
     "execution_count": 49,
     "metadata": {},
     "output_type": "execute_result"
    }
   ],
   "source": [
    "frase = 'Python é uma linguagem excelente'\n",
    "'py' in frase # false\n",
    "'ing' in frase # true\n",
    "len(frase) # len = tamanho\n",
    "frase.lower() # tudo minuscula\n",
    "frase # nao alterou\n",
    "frase.upper() # tudo maiuscula\n",
    "frase.split() # padrao = espaco em branco\n",
    "frase.split('e')\n",
    "# dir(str)\n",
    "# help(str.center)"
   ]
  },
  {
   "cell_type": "code",
   "execution_count": 58,
   "id": "configured-telling",
   "metadata": {},
   "outputs": [
    {
     "data": {
      "text/plain": [
       "True"
      ]
     },
     "execution_count": 58,
     "metadata": {},
     "output_type": "execute_result"
    }
   ],
   "source": [
    "# metodos magicos\n",
    "a = '123'\n",
    "b = ' de oliveira 4'\n",
    "\n",
    "a + b # magic\n",
    "a.__add__(b) # msm coisa\n",
    "str.__add__(a, b) # msm coisa\n",
    "\n",
    "len(a) # magic\n",
    "a.__len__() # msm coisa\n",
    "\n",
    "'1' in a # magic\n",
    "a.__contains__('1') # msm coisa"
   ]
  }
 ],
 "metadata": {
  "kernelspec": {
   "display_name": "Python 3",
   "language": "python",
   "name": "python3"
  },
  "language_info": {
   "codemirror_mode": {
    "name": "ipython",
    "version": 3
   },
   "file_extension": ".py",
   "mimetype": "text/x-python",
   "name": "python",
   "nbconvert_exporter": "python",
   "pygments_lexer": "ipython3",
   "version": "3.8.5"
  }
 },
 "nbformat": 4,
 "nbformat_minor": 5
}
