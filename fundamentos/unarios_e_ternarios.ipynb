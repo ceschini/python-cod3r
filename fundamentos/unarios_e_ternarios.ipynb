{
 "cells": [
  {
   "cell_type": "markdown",
   "id": "animal-sapphire",
   "metadata": {},
   "source": [
    "# Operadores Unários"
   ]
  },
  {
   "cell_type": "code",
   "execution_count": 13,
   "id": "framed-roller",
   "metadata": {},
   "outputs": [
    {
     "data": {
      "text/plain": [
       "True"
      ]
     },
     "execution_count": 13,
     "metadata": {},
     "output_type": "execute_result"
    }
   ],
   "source": [
    "a = 3\n",
    "# a++ # invalido\n",
    "a += 1\n",
    "# a-- # invalido\n",
    "-a # transforma em negativo\n",
    "+a # transforma em positivo\n",
    "\n",
    "not 0\n",
    "not 1\n",
    "not -2\n",
    "not False\n",
    "not not True # --True"
   ]
  },
  {
   "cell_type": "markdown",
   "id": "graphic-zealand",
   "metadata": {},
   "source": [
    "# Operadores Ternários"
   ]
  },
  {
   "cell_type": "code",
   "execution_count": 20,
   "id": "accepted-stuff",
   "metadata": {},
   "outputs": [
    {
     "data": {
      "text/plain": [
       "'Hoje estou com as roupas molhadas.'"
      ]
     },
     "execution_count": 20,
     "metadata": {},
     "output_type": "execute_result"
    }
   ],
   "source": [
    "esta_chovendo = True\n",
    "#                             (false,           true)[logica]\n",
    "'Hoje estou com as roupas ' + ('secas.', 'molhadas.')[esta_chovendo]"
   ]
  },
  {
   "cell_type": "code",
   "execution_count": 21,
   "id": "proof-commercial",
   "metadata": {},
   "outputs": [
    {
     "data": {
      "text/plain": [
       "'Hoje estou com as roupas secas.'"
      ]
     },
     "execution_count": 21,
     "metadata": {},
     "output_type": "execute_result"
    }
   ],
   "source": [
    "esta_chovendo = False\n",
    "'Hoje estou com as roupas ' + ('molhadas.' if esta_chovendo else 'secas.')"
   ]
  }
 ],
 "metadata": {
  "kernelspec": {
   "display_name": "Python 3",
   "language": "python",
   "name": "python3"
  },
  "language_info": {
   "codemirror_mode": {
    "name": "ipython",
    "version": 3
   },
   "file_extension": ".py",
   "mimetype": "text/x-python",
   "name": "python",
   "nbconvert_exporter": "python",
   "pygments_lexer": "ipython3",
   "version": "3.8.5"
  }
 },
 "nbformat": 4,
 "nbformat_minor": 5
}
