{
 "cells": [
  {
   "cell_type": "markdown",
   "id": "institutional-sessions",
   "metadata": {},
   "source": [
    "# Conjuntos (Set)"
   ]
  },
  {
   "cell_type": "code",
   "execution_count": 22,
   "id": "relevant-accreditation",
   "metadata": {},
   "outputs": [
    {
     "name": "stdout",
     "output_type": "stream",
     "text": [
      "{'o', 'r', '3', 'd', 'c'}\n"
     ]
    },
    {
     "data": {
      "text/plain": [
       "{1, 3}"
      ]
     },
     "execution_count": 22,
     "metadata": {},
     "output_type": "execute_result"
    }
   ],
   "source": [
    "a = {1, 2, 3}\n",
    "type(a) # set\n",
    "\n",
    "# a[0] # erro, n tem indice\n",
    "a = set('coddddd3r') # sem repeticao\n",
    "print(a) # nao garante ordem\n",
    "\n",
    "# operacoes\n",
    "c1 = {1, 2}\n",
    "c2 = {2, 3}\n",
    "c1.union(c2)\n",
    "c1.intersection(c2)\n",
    "c1.update(c2) # atualizando c1 com uniao c2\n",
    "c2 <= c1 # c2 esta contido em c1?\n",
    "c1 >= c2 # c1 eh super conjunto de c2?\n",
    "\n",
    "{1, 2, 3} - {2} # diff entre os sets {1, 3}\n",
    "c1 - c2 # {1}\n",
    "c1 -= {2} # removendo 2 de c1\n",
    "c1 # {1, 3}"
   ]
  }
 ],
 "metadata": {
  "kernelspec": {
   "display_name": "Python 3",
   "language": "python",
   "name": "python3"
  },
  "language_info": {
   "codemirror_mode": {
    "name": "ipython",
    "version": 3
   },
   "file_extension": ".py",
   "mimetype": "text/x-python",
   "name": "python",
   "nbconvert_exporter": "python",
   "pygments_lexer": "ipython3",
   "version": "3.8.5"
  }
 },
 "nbformat": 4,
 "nbformat_minor": 5
}
