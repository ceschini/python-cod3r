{
 "cells": [
  {
   "cell_type": "markdown",
   "id": "studied-danger",
   "metadata": {},
   "source": [
    "# Tupla"
   ]
  },
  {
   "cell_type": "code",
   "execution_count": 29,
   "id": "compact-reverse",
   "metadata": {},
   "outputs": [
    {
     "data": {
      "text/plain": [
       "4"
      ]
     },
     "execution_count": 29,
     "metadata": {},
     "output_type": "execute_result"
    }
   ],
   "source": [
    "tupla = tuple()\n",
    "tupla = ()\n",
    "type(tupla) # tuple\n",
    "dir(tupla)\n",
    "# help(tuple)\n",
    "\n",
    "tupla = ('um')\n",
    "type(tupla) # string!\n",
    "tupla = ('um',)\n",
    "type(tupla) # tuple\n",
    "\n",
    "# indexada\n",
    "tupla[0] # 'um'\n",
    "\n",
    "# **imutavel**\n",
    "# tupla[0] = 'novo' # not support item assignment\n",
    "\n",
    "cores = ('verde', 'amarelo', 'azul', 'branco')\n",
    "cores[0] # verde\n",
    "cores[-1] # branco\n",
    "cores[1:]\n",
    "\n",
    "cores.index('amarelo') # 1\n",
    "cores.count('azul') # qntos elementos azul tem na tupla\n",
    "len(cores) # 4"
   ]
  }
 ],
 "metadata": {
  "kernelspec": {
   "display_name": "Python 3",
   "language": "python",
   "name": "python3"
  },
  "language_info": {
   "codemirror_mode": {
    "name": "ipython",
    "version": 3
   },
   "file_extension": ".py",
   "mimetype": "text/x-python",
   "name": "python",
   "nbconvert_exporter": "python",
   "pygments_lexer": "ipython3",
   "version": "3.8.5"
  }
 },
 "nbformat": 4,
 "nbformat_minor": 5
}
