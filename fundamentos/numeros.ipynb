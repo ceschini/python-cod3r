{
 "cells": [
  {
   "cell_type": "markdown",
   "id": "twenty-editing",
   "metadata": {},
   "source": [
    "# Tipos Numéricos"
   ]
  },
  {
   "cell_type": "code",
   "execution_count": 24,
   "id": "northern-harbor",
   "metadata": {},
   "outputs": [
    {
     "data": {
      "text/plain": [
       "3.6"
      ]
     },
     "execution_count": 24,
     "metadata": {},
     "output_type": "execute_result"
    }
   ],
   "source": [
    "dir(int)\n",
    "dir(float)\n",
    "\n",
    "a = 5 # int\n",
    "b = 2.5 # float\n",
    "a / b # float\n",
    "a + b # float\n",
    "a * b # float\n",
    "\n",
    "type(a)\n",
    "type(b)\n",
    "type(a - b)\n",
    "\n",
    "b.is_integer() # False\n",
    "# True, mesmo float, o **conteudo** eh inteiro\n",
    "5.0.is_integer()\n",
    "\n",
    "int.__add__(2, 3) # 5\n",
    "2 + 3\n",
    "\n",
    "(-2).__abs__() # 2\n",
    "abs(-2) # dentro do builtins\n",
    "\n",
    "(-3.6).__abs__() # float tbm tem\n",
    "dir(float)\n",
    "abs(-3.6)"
   ]
  },
  {
   "cell_type": "markdown",
   "id": "injured-shanghai",
   "metadata": {},
   "source": [
    "# Decimal"
   ]
  },
  {
   "cell_type": "code",
   "execution_count": 45,
   "id": "clinical-hamburg",
   "metadata": {},
   "outputs": [
    {
     "name": "stdout",
     "output_type": "stream",
     "text": [
      "Especificação padrão:\n",
      "3.3000000000000003\n",
      "0.1428571428571428571428571429\n",
      "0.1429\n",
      "7\n",
      "3.3000000000000003\n",
      "3.300000000\n"
     ]
    }
   ],
   "source": [
    "print('Especificação padrão:')\n",
    "print(1.1 + 2.2)\n",
    "\n",
    "from decimal import Decimal, getcontext\n",
    "# dir(Decimal)\n",
    "print(Decimal(1) / Decimal(7))\n",
    "getcontext().prec = 4\n",
    "print(Decimal(1) / Decimal(7))\n",
    "print(Decimal.max(Decimal(1), Decimal(7)))\n",
    "\n",
    "\n",
    "print(1.1 + 2.2)\n",
    "getcontext().prec = 10\n",
    "print(Decimal(1.1) + Decimal(2.2))\n"
   ]
  }
 ],
 "metadata": {
  "kernelspec": {
   "display_name": "Python 3",
   "language": "python",
   "name": "python3"
  },
  "language_info": {
   "codemirror_mode": {
    "name": "ipython",
    "version": 3
   },
   "file_extension": ".py",
   "mimetype": "text/x-python",
   "name": "python",
   "nbconvert_exporter": "python",
   "pygments_lexer": "ipython3",
   "version": "3.8.5"
  }
 },
 "nbformat": 4,
 "nbformat_minor": 5
}
