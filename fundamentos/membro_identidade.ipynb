{
 "cells": [
  {
   "cell_type": "markdown",
   "id": "charged-thailand",
   "metadata": {},
   "source": [
    "# Membro"
   ]
  },
  {
   "cell_type": "code",
   "execution_count": 2,
   "id": "impaired-level",
   "metadata": {},
   "outputs": [
    {
     "name": "stdout",
     "output_type": "stream",
     "text": [
      "True\n",
      "False\n"
     ]
    }
   ],
   "source": [
    "lista = [1, 2, 3, 'Ana', 'Carla']\n",
    "print(2 in lista)\n",
    "print('Ana' not in lista)"
   ]
  },
  {
   "cell_type": "markdown",
   "id": "higher-circle",
   "metadata": {},
   "source": [
    "# Identidade"
   ]
  },
  {
   "cell_type": "code",
   "execution_count": 13,
   "id": "effective-escape",
   "metadata": {},
   "outputs": [
    {
     "data": {
      "text/plain": [
       "True"
      ]
     },
     "execution_count": 13,
     "metadata": {},
     "output_type": "execute_result"
    }
   ],
   "source": [
    "x = 3\n",
    "y = x\n",
    "z = 3\n",
    "x is y\n",
    "y is z\n",
    "x is not z\n",
    "\n",
    "# !melhor visualizado no python preview do vs code!\n",
    "lista_a = [1, 2, 3]\n",
    "lista_b = lista_a # copia por referencia\n",
    "lista_c = [1, 2, 3]\n",
    "\n",
    "lista_a is lista_b # apontam pro mesmo espaco de memoria, logo true\n",
    "lista_b is lista_c # false\n",
    "lista_a is not lista_c"
   ]
  }
 ],
 "metadata": {
  "kernelspec": {
   "display_name": "Python 3",
   "language": "python",
   "name": "python3"
  },
  "language_info": {
   "codemirror_mode": {
    "name": "ipython",
    "version": 3
   },
   "file_extension": ".py",
   "mimetype": "text/x-python",
   "name": "python",
   "nbconvert_exporter": "python",
   "pygments_lexer": "ipython3",
   "version": "3.8.5"
  }
 },
 "nbformat": 4,
 "nbformat_minor": 5
}
